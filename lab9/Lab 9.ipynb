{
 "cells": [
  {
   "cell_type": "markdown",
   "metadata": {},
   "source": [
    "## Задание\n",
    "Будем парсить страницу со свежеми новостям на habr.com/ru/all/.\n",
    "\n",
    "Вам необходимо собирать только те статьи, в которых встречается хотя бы одно требуемое ключевое слово. Эти слова определяем в начале кода в переменной, например:\n",
    "\n",
    "KEYWORDS = \\['python', 'парсинг'\\]\n",
    "\n",
    "Поиск вести по всей доступной preview-информации (это информация, доступная непосредственно с текущей страницы).\n",
    "\n",
    "В итоге должен формироваться датафрейм вида: <дата> - <заголовок> - <ссылка>\n",
    "\n",
    "Дополнительная часть (необязательная)\n",
    "Улучшить скрипт так, чтобы он анализировал не только preview-информацию статьи, но и весь текст статьи целиком.\n",
    "\n",
    "Для этого потребуется получать страницы статей и искать по тексту внутри этой страницы.\n",
    "\n",
    "Итоговый датафрейм формировать со столбцами: <дата> - <заголовок> - <ссылка> - <текст_статьи>"
   ]
  },
  {
   "cell_type": "code",
   "execution_count": 1,
   "metadata": {},
   "outputs": [],
   "source": [
    "import requests\n",
    "import pandas\n",
    "from bs4 import BeautifulSoup\n",
    "\n",
    "KEYWORDS = ['python', 'парсинг']\n",
    "url = 'https://habr.com/ru/all/'"
   ]
  },
  {
   "cell_type": "code",
   "execution_count": 2,
   "metadata": {},
   "outputs": [],
   "source": [
    "def checkTag(tags):\n",
    "    for keyword in KEYWORDS:\n",
    "        if(keyword.lower() not in tags and keyword != KEYWORDS[-1]):\n",
    "            return False\n",
    "    return True"
   ]
  },
  {
   "cell_type": "code",
   "execution_count": 3,
   "metadata": {},
   "outputs": [
    {
     "data": {
      "text/html": [
       "<div>\n",
       "<style scoped>\n",
       "    .dataframe tbody tr th:only-of-type {\n",
       "        vertical-align: middle;\n",
       "    }\n",
       "\n",
       "    .dataframe tbody tr th {\n",
       "        vertical-align: top;\n",
       "    }\n",
       "\n",
       "    .dataframe thead th {\n",
       "        text-align: right;\n",
       "    }\n",
       "</style>\n",
       "<table border=\"1\" class=\"dataframe\">\n",
       "  <thead>\n",
       "    <tr style=\"text-align: right;\">\n",
       "      <th></th>\n",
       "      <th>time</th>\n",
       "      <th>title</th>\n",
       "      <th>text</th>\n",
       "      <th>link</th>\n",
       "    </tr>\n",
       "  </thead>\n",
       "  <tbody>\n",
       "    <tr>\n",
       "      <th>0</th>\n",
       "      <td>вчера в 18:11</td>\n",
       "      <td>Немного про трекинг и сервис переходов Admitad</td>\n",
       "      <td>Привет, меня зовут Александр, я тимлид команды...</td>\n",
       "      <td>https://habr.com/ru/company/admitad_gmbh/blog/...</td>\n",
       "    </tr>\n",
       "  </tbody>\n",
       "</table>\n",
       "</div>"
      ],
      "text/plain": [
       "            time                                           title  \\\n",
       "0  вчера в 18:11  Немного про трекинг и сервис переходов Admitad   \n",
       "\n",
       "                                                text  \\\n",
       "0  Привет, меня зовут Александр, я тимлид команды...   \n",
       "\n",
       "                                                link  \n",
       "0  https://habr.com/ru/company/admitad_gmbh/blog/...  "
      ]
     },
     "execution_count": 3,
     "metadata": {},
     "output_type": "execute_result"
    }
   ],
   "source": [
    "import time\n",
    "def getAllInfo(url, query, pages):\n",
    "    habrPosts = pandas.DataFrame()\n",
    "    \n",
    "    for i in range(pages):\n",
    "        page = 'page' + str(i + 1)\n",
    "        hubrPage = requests.get(url+page)\n",
    "        if (hubrPage.status_code != 200):\n",
    "            print('Something Wrong in Web Site')\n",
    "            break\n",
    "        #time.sleep(0.3) #Ругается UnboundLocalError: local variable 'time' referenced before assignment\n",
    "        soup = BeautifulSoup(hubrPage.text, 'html.parser')\n",
    "        blogs = soup.find_all('article', class_='post post_preview')\n",
    "        for blog in blogs:\n",
    "            tags = []\n",
    "            for listTags in blog.find('ul').find_all('a'):\n",
    "                tags.append(listTags.text.lower())\n",
    "\n",
    "            if(not checkTag(tags)):\n",
    "                continue\n",
    "            try:\n",
    "                title = blog.find('a', class_='post__title_link').text\n",
    "                link = blog.find('a', class_='post__title_link').get('href')\n",
    "                text = blog.find('div', class_='post__text post__text-html post__text_v1').text.strip()\n",
    "                time = blog.find('span', class_='post__time').text\n",
    "            except AttributeError:\n",
    "                print('Corrupted data on ',page)\n",
    "                print(\"Can't read \",link) \n",
    "                break\n",
    "                \n",
    "            info = [time, title, text, link]\n",
    "            row = {'time': info[0], 'title': info[1], 'text': info[2], 'link': info[3]}\n",
    "            habrPosts = pandas.concat([habrPosts, pandas.DataFrame([row])]) \n",
    "                 \n",
    "    return habrPosts\n",
    "\n",
    "all_links = getAllInfo(url, KEYWORDS, 5)\n",
    "all_links"
   ]
  },
  {
   "cell_type": "code",
   "execution_count": null,
   "metadata": {},
   "outputs": [],
   "source": []
  }
 ],
 "metadata": {
  "kernelspec": {
   "display_name": "Python 3",
   "language": "python",
   "name": "python3"
  },
  "language_info": {
   "codemirror_mode": {
    "name": "ipython",
    "version": 3
   },
   "file_extension": ".py",
   "mimetype": "text/x-python",
   "name": "python",
   "nbconvert_exporter": "python",
   "pygments_lexer": "ipython3",
   "version": "3.8.5"
  }
 },
 "nbformat": 4,
 "nbformat_minor": 2
}
