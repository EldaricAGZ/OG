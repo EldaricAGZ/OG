{
 "cells": [
  {
   "cell_type": "code",
   "execution_count": null,
   "metadata": {},
   "outputs": [],
   "source": [
    "import pandas as pd\n",
    "import matplotlib.pyplot as plt\n",
    "import seaborn as sns\n",
    "plt.show()"
   ]
  },
  {
   "cell_type": "code",
   "execution_count": null,
   "metadata": {},
   "outputs": [],
   "source": [
    "googlePlayStore = pd.read_csv('googleplaystore.csv')\n",
    "googlePlayStore.info()"
   ]
  },
  {
   "cell_type": "code",
   "execution_count": null,
   "metadata": {},
   "outputs": [],
   "source": [
    "googlePlayStore = googlePlayStore.dropna()\n",
    "print(googlePlayStore.shape)\n",
    "googlePlayStore.head()"
   ]
  },
  {
   "cell_type": "markdown",
   "metadata": {},
   "source": [
    "## 1 График\n",
    "На данном графике расмотрим по каким категориям больше всего приложений"
   ]
  },
  {
   "cell_type": "code",
   "execution_count": null,
   "metadata": {},
   "outputs": [],
   "source": [
    "plotCategory = googlePlayStore.groupby('Category').size().plot(kind='bar')\n",
    "plotCategory.set_title('Предложение рынка')\n",
    "plotCategory.set_ylabel('Количество приложений')\n",
    "plotCategory.set_xlabel('Категория')\n",
    "plt.show()"
   ]
  },
  {
   "cell_type": "markdown",
   "metadata": {},
   "source": [
    "## 2 График\n",
    "Рассмотрим то каких приложений больше всего"
   ]
  },
  {
   "cell_type": "code",
   "execution_count": null,
   "metadata": {},
   "outputs": [],
   "source": [
    "topGenres = googlePlayStore.groupby('Genres')[['Rating']].count()\\\n",
    "    .sort_values('Rating', ascending=False).head()\n",
    "    \n",
    "topGenres"
   ]
  },
  {
   "cell_type": "code",
   "execution_count": null,
   "metadata": {},
   "outputs": [],
   "source": [
    "topGenres.style.bar()"
   ]
  },
  {
   "cell_type": "markdown",
   "metadata": {},
   "source": [
    "## 3 График\n",
    "Спрос рынка"
   ]
  },
  {
   "cell_type": "code",
   "execution_count": null,
   "metadata": {},
   "outputs": [],
   "source": [
    "googlePlayStore['Installs'] = googlePlayStore.Installs.apply(lambda string: string.rstrip('+'))\n",
    "googlePlayStore['Installs'] = googlePlayStore.Installs.apply(lambda string: string.replace(',',''))"
   ]
  },
  {
   "cell_type": "code",
   "execution_count": null,
   "metadata": {},
   "outputs": [],
   "source": [
    "googlePlayStore['Installs'] = googlePlayStore.Installs.astype('int64')\n",
    "plotMostUseCategory = googlePlayStore.groupby('Category').Installs.sum().plot(kind='bar')\n",
    "plotMostUseCategory.set_title('Спрос рынка')\n",
    "plotMostUseCategory.set_ylabel('Количество обзоров')\n",
    "plotMostUseCategory.set_xlabel('Категория')"
   ]
  },
  {
   "cell_type": "markdown",
   "metadata": {},
   "source": [
    "## 4 График\n"
   ]
  },
  {
   "cell_type": "code",
   "execution_count": null,
   "metadata": {},
   "outputs": [],
   "source": [
    "ratAndRev = googlePlayStore[['Rating', 'Reviews']]\n",
    "sns.jointplot(x='Reviews', y='Rating', \n",
    "              data=ratAndRev, kind='scatter')"
   ]
  },
  {
   "cell_type": "markdown",
   "metadata": {},
   "source": [
    "Вывод: Люди больше оценивают приложения, которые имеют хорошую оценку. Это говорит о том, что если ваше приложение получает оценку меньше 4 или 3,8 то больших скачиваний не будет"
   ]
  },
  {
   "cell_type": "code",
   "execution_count": null,
   "metadata": {},
   "outputs": [],
   "source": []
  }
 ],
 "metadata": {
  "kernelspec": {
   "display_name": "Python 3",
   "language": "python",
   "name": "python3"
  },
  "language_info": {
   "codemirror_mode": {
    "name": "ipython",
    "version": 3
   },
   "file_extension": ".py",
   "mimetype": "text/x-python",
   "name": "python",
   "nbconvert_exporter": "python",
   "pygments_lexer": "ipython3",
   "version": "3.8.3"
  }
 },
 "nbformat": 4,
 "nbformat_minor": 2
}
